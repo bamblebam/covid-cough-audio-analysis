{
 "metadata": {
  "language_info": {
   "codemirror_mode": {
    "name": "ipython",
    "version": 3
   },
   "file_extension": ".py",
   "mimetype": "text/x-python",
   "name": "python",
   "nbconvert_exporter": "python",
   "pygments_lexer": "ipython3",
   "version": "3.8.8"
  },
  "orig_nbformat": 4,
  "kernelspec": {
   "name": "python3",
   "display_name": "Python 3.8.8 64-bit ('tf': conda)"
  },
  "interpreter": {
   "hash": "8f7a9caefe3fbe01c4aa0205e6cc1c36763ed3d41b234746df90d0099aaa4109"
  }
 },
 "nbformat": 4,
 "nbformat_minor": 2,
 "cells": [
  {
   "cell_type": "code",
   "execution_count": 34,
   "metadata": {},
   "outputs": [],
   "source": [
    "import torch as pt\n",
    "from torch import nn\n",
    "import torchaudio as ta\n",
    "from torchsummary import summary\n",
    "from torch.utils.data import Dataset,DataLoader\n",
    "\n",
    "import numpy as numpy\n",
    "\n",
    "import os\n",
    "import subprocess\n",
    "import tqdm as tqdm\n",
    "import json"
   ]
  },
  {
   "cell_type": "code",
   "execution_count": 30,
   "metadata": {},
   "outputs": [],
   "source": [
    "if pt.cuda.is_available():\n",
    "    device='cuda'\n",
    "else:\n",
    "    device='cpu'"
   ]
  },
  {
   "cell_type": "code",
   "execution_count": 31,
   "metadata": {},
   "outputs": [
    {
     "output_type": "stream",
     "name": "stdout",
     "text": [
      "cuda\n"
     ]
    }
   ],
   "source": [
    "print(device)"
   ]
  },
  {
   "cell_type": "code",
   "execution_count": 21,
   "metadata": {
    "tags": []
   },
   "outputs": [],
   "source": [
    "path='data\\public_dataset'\n",
    "for file in os.listdir(path):\n",
    "    if file.endswith('webm'):\n",
    "        name,ext=os.path.splitext(file)\n",
    "        new_name=name+'.wav'\n",
    "        os.rename(os.path.join(path,file),os.path.join(path,new_name))"
   ]
  },
  {
   "cell_type": "code",
   "execution_count": 13,
   "metadata": {},
   "outputs": [],
   "source": [
    "def convert_webm_to_wav(file):\n",
    "    command = ['ffmpeg', '-i', file, file[:-5] + '.wav']\n",
    "    subprocess.run(command)"
   ]
  },
  {
   "cell_type": "code",
   "execution_count": 19,
   "metadata": {
    "tags": []
   },
   "outputs": [],
   "source": [
    "path='data\\public_dataset'\n",
    "for file in os.listdir(path):\n",
    "    if file.endswith('webm'):\n",
    "        subprocess.run(['ffmpeg','-i',os.path.join(path,file),'test_df/'+file[:-5]+'.wav'])"
   ]
  },
  {
   "cell_type": "code",
   "execution_count": 2,
   "metadata": {},
   "outputs": [
    {
     "output_type": "stream",
     "name": "stdout",
     "text": [
      "25984\n"
     ]
    }
   ],
   "source": [
    "path='test_df'\n",
    "name_set=set()\n",
    "for file in os.listdir(path):\n",
    "    if file.endswith('wav'):\n",
    "        name_set.add(file)\n",
    "print(len(name_set))"
   ]
  },
  {
   "cell_type": "code",
   "execution_count": 24,
   "metadata": {},
   "outputs": [
    {
     "output_type": "stream",
     "name": "stdout",
     "text": [
      "2d71f678-6687-4a2f-bfed-e40fd23b9752\n{'datetime': '2020-04-14T18:46:15.579555+00:00', 'cough_detected': '0.8779', 'latitude': '37.8', 'longitude': '29.1', 'age': '8', 'gender': 'male', 'respiratory_condition': 'False', 'fever_muscle_pain': 'False', 'status': 'healthy'}\n"
     ]
    }
   ],
   "source": [
    "t=os.path.join(path,list(name_set)[0])\n",
    "label_path='data\\public_dataset'\n",
    "fname=t[8:-4]\n",
    "l=os.path.join(label_path,fname+'.json')\n",
    "print(fname)\n",
    "with open(l,'r') as f:\n",
    "    content=json.loads(f.read())\n",
    "print(content)"
   ]
  },
  {
   "cell_type": "code",
   "execution_count": 27,
   "metadata": {},
   "outputs": [
    {
     "output_type": "stream",
     "name": "stdout",
     "text": [
      "2d71f678-6687-4a2f-bfed-e40fd23b9752.wav\n"
     ]
    }
   ],
   "source": [
    "print(list(name_set)[0])"
   ]
  },
  {
   "cell_type": "code",
   "execution_count": 6,
   "metadata": {},
   "outputs": [],
   "source": [
    "signal,sr=ta.load(t)"
   ]
  },
  {
   "cell_type": "code",
   "execution_count": 16,
   "metadata": {},
   "outputs": [
    {
     "output_type": "stream",
     "name": "stdout",
     "text": [
      "0.9902\n"
     ]
    }
   ],
   "source": [
    "print(content['cough_detected'])"
   ]
  },
  {
   "cell_type": "code",
   "execution_count": 32,
   "metadata": {},
   "outputs": [],
   "source": [
    "class CoughVidDataset(Dataset):\n",
    "\n",
    "    def __init__(self,audio_path,label_path,transformation,target_sample_rate,num_samples,device):\n",
    "        name_set=set()\n",
    "        for file in os.listdir(audio_path):\n",
    "            if file.endswith('wav'):\n",
    "                name_set.add(file)\n",
    "        name_set=list(name_set)\n",
    "        self.datalist=name_set\n",
    "        self.audio_path=audio_path\n",
    "        self.label_path=label_path\n",
    "        self.device=device\n",
    "        self.transformation=transformation.to(device)\n",
    "        self.target_sample_rate=target_sample_rate\n",
    "        self.num_samples=num_samples\n",
    "        \n",
    "    def __len__(self):\n",
    "        return len(self.datalist)\n",
    "\n",
    "    def __getitem__(self,idx):\n",
    "        audio_file_path=os.path.join(self.audio_path,self.datalist[idx])\n",
    "        label_file_path=os.path.join(self.label_path,self.datalist[idx][:-4]+'.json')\n",
    "        with open(label_file_path,'r') as f:\n",
    "            content=json.loads(f.read())\n",
    "            f.close()\n",
    "        label=content['cough_detected']\n",
    "        waveform,sample_rate=ta.load(audio_file_path) #(num_channels,samples) -> (1,samples) makes the waveform mono\n",
    "        waveform=waveform.to(self.device)\n",
    "        waveform=self._resample(waveform,sample_rate)   \n",
    "        waveform=self._mix_down(waveform)\n",
    "        waveform=self._cut(waveform)\n",
    "        waveform=self._right_pad(waveform)\n",
    "        waveform=self.transformation(waveform)\n",
    "        return waveform,label\n",
    "\n",
    "    def _resample(self,waveform,sample_rate):\n",
    "        # used to handle sample rate\n",
    "        resampler=ta.transforms.Resample(sample_rate,self.target_sample_rate)\n",
    "        return resampler(waveform)\n",
    "    \n",
    "    def _mix_down(self,waveform):\n",
    "        # used to handle channels\n",
    "        waveform=pt.mean(waveform,dim=0,keepdim=True)\n",
    "        return waveform\n",
    "    \n",
    "    def _cut(self,waveform):\n",
    "        # cuts the waveform if it has more than certain samples\n",
    "        if waveform.shape[1]>self.num_samples:\n",
    "            waveform=waveform[:,:self.num_samples]\n",
    "        return waveform\n",
    "    \n",
    "    def _right_pad(self,waveform):\n",
    "        # pads the waveform if it has less than certain samples\n",
    "        signal_length=waveform.shape[1]\n",
    "        if signal_length<self.num_samples:\n",
    "            num_padding=self.num_samples-signal_length\n",
    "            last_dim_padding=(0,num_padding) # first arg for left second for right padding. Make a list of tuples for multi dim\n",
    "            waveform=pt.nn.functional.pad(waveform,last_dim_padding)\n",
    "        return waveform\n",
    "\n"
   ]
  },
  {
   "cell_type": "code",
   "execution_count": 35,
   "metadata": {},
   "outputs": [],
   "source": [
    "class CNNNetwork(nn.Module):\n",
    "\n",
    "    def __init__(self):\n",
    "        super().__init__()\n",
    "        self.conv1=nn.Sequential(\n",
    "            nn.Conv2d(in_channels=1,out_channels=16,kernel_size=3,stride=1,padding=2),\n",
    "            nn.ReLU(),\n",
    "            nn.MaxPool2d(kernel_size=2)\n",
    "        )\n",
    "        self.conv2=nn.Sequential(\n",
    "            nn.Conv2d(in_channels=16,out_channels=32,kernel_size=3,stride=1,padding=2),\n",
    "            nn.ReLU(),\n",
    "            nn.MaxPool2d(kernel_size=2)\n",
    "        )\n",
    "        self.conv3=nn.Sequential(\n",
    "            nn.Conv2d(in_channels=32,out_channels=64,kernel_size=3,stride=1,padding=2),\n",
    "            nn.ReLU(),\n",
    "            nn.MaxPool2d(kernel_size=2)\n",
    "        )\n",
    "        self.conv4=nn.Sequential(\n",
    "            nn.Conv2d(in_channels=64,out_channels=128,kernel_size=3,stride=1,padding=2),\n",
    "            nn.ReLU(),\n",
    "            nn.MaxPool2d(kernel_size=2)\n",
    "        )\n",
    "        self.flatten=nn.Flatten()\n",
    "        self.linear1=nn.Linear(in_features=128*5*4,out_features=128)\n",
    "        self.linear2=nn.Linear(in_features=128,out_features=1)\n",
    "        self.output=nn.Sigmoid()\n",
    "    \n",
    "    def forward(self,input_data):\n",
    "        x=self.conv1(input_data)\n",
    "        x=self.conv2(x)\n",
    "        x=self.conv3(x)\n",
    "        x=self.conv4(x)\n",
    "        x=self.flatten(x)\n",
    "        x=self.linear1(x)\n",
    "        logits=self.linear2(x)\n",
    "        output=self.output(logits)\n",
    "        \n",
    "        return output\n"
   ]
  },
  {
   "cell_type": "code",
   "execution_count": 60,
   "metadata": {},
   "outputs": [],
   "source": [
    "def train_single_epoch(model,dataloader,loss_fn,optimizer,device):\n",
    "    for waveform,label in dataloader:\n",
    "        waveform=waveform.to(device)\n",
    "        label=pt.from_numpy(numpy.array(label))\n",
    "        label=label.to(device)\n",
    "        # calculate loss and preds\n",
    "        logits=model(waveform)\n",
    "        loss=loss_fn(waveform,label)\n",
    "        # backpropogate the loss and update the gradients\n",
    "        optimizer.zero_grad()\n",
    "        loss.backward()\n",
    "        optimizer.step()\n",
    "    print(f\"loss:{loss.item()}\")"
   ]
  },
  {
   "cell_type": "code",
   "execution_count": 48,
   "metadata": {},
   "outputs": [],
   "source": [
    "def train(model,dataloader,loss_fn,optimizer,device,epochs):\n",
    "    for i in tqdm.tqdm(range(epochs)):\n",
    "        print(f\"epoch:{i+1}\")\n",
    "        train_single_epoch(model,dataloader,loss_fn,optimizer,device)\n",
    "        print('-------------------------------------------')\n",
    "    print('Finished Training')"
   ]
  },
  {
   "cell_type": "code",
   "execution_count": 45,
   "metadata": {},
   "outputs": [],
   "source": [
    "audio_path='test_df'\n",
    "label_path='data\\public_dataset'\n",
    "SAMPLE_RATE=22050\n",
    "NUM_SAMPLES=22050\n",
    "BATCH_SIZE=128\n",
    "EPOCHS=8"
   ]
  },
  {
   "cell_type": "code",
   "execution_count": 56,
   "metadata": {},
   "outputs": [],
   "source": [
    "melspectogram=ta.transforms.MelSpectrogram(sample_rate=SAMPLE_RATE,n_fft=1024,hop_length=512,n_mels=64)\n",
    "coughvid_dataset=CoughVidDataset(audio_path,label_path,melspectogram,SAMPLE_RATE,NUM_SAMPLES,device)"
   ]
  },
  {
   "cell_type": "code",
   "execution_count": 57,
   "metadata": {},
   "outputs": [],
   "source": [
    "train_dataloader=DataLoader(coughvid_dataset,batch_size=BATCH_SIZE,shuffle=True)"
   ]
  },
  {
   "cell_type": "code",
   "execution_count": 58,
   "metadata": {},
   "outputs": [
    {
     "output_type": "stream",
     "name": "stdout",
     "text": [
      "('0.0081', '0.0171', '0.6534', '0.8267', '0.8405', '0.7635', '0.9076', '0.9918', '0.9772', '0.2369', '0.9764', '0.1116', '0.8942', '0.9858', '0.8954', '0.5500', '0.9461', '0.4585', '0.1403', '0.6637', '0.1244', '0.9798', '0.4259', '0.9802', '0.4016', '0.9907', '0.4777', '0.0395', '0.9804', '0.9912', '0.3763', '0.9279', '0.1964', '0.9486', '0.9823', '0.6912', '0.9711', '0.1246', '0.9965', '0.0454', '0.0000', '0.0955', '0.7091', '0.8571', '0.4412', '0.1749', '0.5455', '0.0145', '0.7023', '0.0140', '0.3519', '0.1058', '0.3241', '0.7080', '0.9799', '0.9169', '0.0366', '0.6582', '0.2745', '0.0474', '0.9547', '0.5295', '0.1097', '0.9472', '0.9898', '0.9583', '0.2808', '0.0847', '0.9676', '0.8380', '0.8639', '0.9699', '0.9430', '0.9168', '0.9872', '0.9973', '0.9879', '0.9397', '0.9522', '0.9882', '0.9978', '0.0545', '0.0735', '0.6723', '0.9848', '0.9938', '0.8852', '0.2493', '0.9895', '0.9531', '0.9928', '0.5333', '0.1005', '0.3954', '0.9510', '0.9171', '0.9955', '0.6590', '0.9948', '0.0376', '0.9575', '0.9488', '0.9613', '0.4588', '0.0421', '0.0170', '0.9570', '0.9900', '0.9955', '0.6594', '0.6095', '0.9693', '0.8105', '0.7031', '0.1367', '0.6724', '0.7039', '0.9617', '0.8460', '0.2192', '0.9958', '0.9914', '0.8111', '0.5126', '0.9832', '0.9247', '0.7551', '0.1319')\n"
     ]
    }
   ],
   "source": [
    "for waveform,label in train_dataloader:\n",
    "    print(label)\n",
    "    break"
   ]
  },
  {
   "cell_type": "code",
   "execution_count": 29,
   "metadata": {},
   "outputs": [
    {
     "output_type": "stream",
     "name": "stdout",
     "text": [
      "torch.Size([1, 64, 44])\n"
     ]
    }
   ],
   "source": [
    "signal,label=coughvid_dataset[0]\n",
    "print(signal.shape)"
   ]
  },
  {
   "cell_type": "code",
   "execution_count": 39,
   "metadata": {},
   "outputs": [
    {
     "output_type": "stream",
     "name": "stdout",
     "text": [
      "==========================================================================================\nLayer (type:depth-idx)                   Output Shape              Param #\n==========================================================================================\n├─Sequential: 1-1                        [-1, 16, 33, 23]          --\n|    └─Conv2d: 2-1                       [-1, 16, 66, 46]          160\n|    └─ReLU: 2-2                         [-1, 16, 66, 46]          --\n|    └─MaxPool2d: 2-3                    [-1, 16, 33, 23]          --\n├─Sequential: 1-2                        [-1, 32, 17, 12]          --\n|    └─Conv2d: 2-4                       [-1, 32, 35, 25]          4,640\n|    └─ReLU: 2-5                         [-1, 32, 35, 25]          --\n|    └─MaxPool2d: 2-6                    [-1, 32, 17, 12]          --\n├─Sequential: 1-3                        [-1, 64, 9, 7]            --\n|    └─Conv2d: 2-7                       [-1, 64, 19, 14]          18,496\n|    └─ReLU: 2-8                         [-1, 64, 19, 14]          --\n|    └─MaxPool2d: 2-9                    [-1, 64, 9, 7]            --\n├─Sequential: 1-4                        [-1, 128, 5, 4]           --\n|    └─Conv2d: 2-10                      [-1, 128, 11, 9]          73,856\n|    └─ReLU: 2-11                        [-1, 128, 11, 9]          --\n|    └─MaxPool2d: 2-12                   [-1, 128, 5, 4]           --\n├─Flatten: 1-5                           [-1, 2560]                --\n├─Linear: 1-6                            [-1, 128]                 327,808\n├─Linear: 1-7                            [-1, 1]                   129\n├─Sigmoid: 1-8                           [-1, 1]                   --\n==========================================================================================\nTotal params: 425,089\nTrainable params: 425,089\nNon-trainable params: 0\nTotal mult-adds (M): 17.10\n==========================================================================================\nInput size (MB): 0.01\nForward/backward pass size (MB): 0.81\nParams size (MB): 1.62\nEstimated Total Size (MB): 2.44\n==========================================================================================\n"
     ]
    },
    {
     "output_type": "execute_result",
     "data": {
      "text/plain": [
       "==========================================================================================\n",
       "Layer (type:depth-idx)                   Output Shape              Param #\n",
       "==========================================================================================\n",
       "├─Sequential: 1-1                        [-1, 16, 33, 23]          --\n",
       "|    └─Conv2d: 2-1                       [-1, 16, 66, 46]          160\n",
       "|    └─ReLU: 2-2                         [-1, 16, 66, 46]          --\n",
       "|    └─MaxPool2d: 2-3                    [-1, 16, 33, 23]          --\n",
       "├─Sequential: 1-2                        [-1, 32, 17, 12]          --\n",
       "|    └─Conv2d: 2-4                       [-1, 32, 35, 25]          4,640\n",
       "|    └─ReLU: 2-5                         [-1, 32, 35, 25]          --\n",
       "|    └─MaxPool2d: 2-6                    [-1, 32, 17, 12]          --\n",
       "├─Sequential: 1-3                        [-1, 64, 9, 7]            --\n",
       "|    └─Conv2d: 2-7                       [-1, 64, 19, 14]          18,496\n",
       "|    └─ReLU: 2-8                         [-1, 64, 19, 14]          --\n",
       "|    └─MaxPool2d: 2-9                    [-1, 64, 9, 7]            --\n",
       "├─Sequential: 1-4                        [-1, 128, 5, 4]           --\n",
       "|    └─Conv2d: 2-10                      [-1, 128, 11, 9]          73,856\n",
       "|    └─ReLU: 2-11                        [-1, 128, 11, 9]          --\n",
       "|    └─MaxPool2d: 2-12                   [-1, 128, 5, 4]           --\n",
       "├─Flatten: 1-5                           [-1, 2560]                --\n",
       "├─Linear: 1-6                            [-1, 128]                 327,808\n",
       "├─Linear: 1-7                            [-1, 1]                   129\n",
       "├─Sigmoid: 1-8                           [-1, 1]                   --\n",
       "==========================================================================================\n",
       "Total params: 425,089\n",
       "Trainable params: 425,089\n",
       "Non-trainable params: 0\n",
       "Total mult-adds (M): 17.10\n",
       "==========================================================================================\n",
       "Input size (MB): 0.01\n",
       "Forward/backward pass size (MB): 0.81\n",
       "Params size (MB): 1.62\n",
       "Estimated Total Size (MB): 2.44\n",
       "=========================================================================================="
      ]
     },
     "metadata": {},
     "execution_count": 39
    }
   ],
   "source": [
    "model=CNNNetwork().cuda()\n",
    "summary(model,(1,64,44))"
   ]
  },
  {
   "cell_type": "code",
   "execution_count": 42,
   "metadata": {},
   "outputs": [],
   "source": [
    "loss_fn=pt.nn.MSELoss()\n",
    "optimizer=pt.optim.SGD(model.parameters(),lr=0.1,momentum=0.9)"
   ]
  },
  {
   "cell_type": "code",
   "execution_count": 61,
   "metadata": {},
   "outputs": [
    {
     "output_type": "stream",
     "name": "stderr",
     "text": [
      "  0%|          | 0/8 [00:00<?, ?it/s]epoch:1\n",
      "  0%|          | 0/8 [00:11<?, ?it/s]\n"
     ]
    },
    {
     "output_type": "error",
     "ename": "TypeError",
     "evalue": "can't convert np.ndarray of type numpy.str_. The only supported types are: float64, float32, float16, complex64, complex128, int64, int32, int16, int8, uint8, and bool.",
     "traceback": [
      "\u001b[1;31m---------------------------------------------------------------------------\u001b[0m",
      "\u001b[1;31mTypeError\u001b[0m                                 Traceback (most recent call last)",
      "\u001b[1;32m<ipython-input-61-6b7e7dbaf09e>\u001b[0m in \u001b[0;36m<module>\u001b[1;34m\u001b[0m\n\u001b[1;32m----> 1\u001b[1;33m \u001b[0mtrain\u001b[0m\u001b[1;33m(\u001b[0m\u001b[0mmodel\u001b[0m\u001b[1;33m,\u001b[0m\u001b[0mtrain_dataloader\u001b[0m\u001b[1;33m,\u001b[0m\u001b[0mloss_fn\u001b[0m\u001b[1;33m,\u001b[0m\u001b[0moptimizer\u001b[0m\u001b[1;33m,\u001b[0m\u001b[0mdevice\u001b[0m\u001b[1;33m,\u001b[0m\u001b[0mEPOCHS\u001b[0m\u001b[1;33m)\u001b[0m\u001b[1;33m\u001b[0m\u001b[1;33m\u001b[0m\u001b[0m\n\u001b[0m",
      "\u001b[1;32m<ipython-input-48-b5036021674f>\u001b[0m in \u001b[0;36mtrain\u001b[1;34m(model, dataloader, loss_fn, optimizer, device, epochs)\u001b[0m\n\u001b[0;32m      2\u001b[0m     \u001b[1;32mfor\u001b[0m \u001b[0mi\u001b[0m \u001b[1;32min\u001b[0m \u001b[0mtqdm\u001b[0m\u001b[1;33m.\u001b[0m\u001b[0mtqdm\u001b[0m\u001b[1;33m(\u001b[0m\u001b[0mrange\u001b[0m\u001b[1;33m(\u001b[0m\u001b[0mepochs\u001b[0m\u001b[1;33m)\u001b[0m\u001b[1;33m)\u001b[0m\u001b[1;33m:\u001b[0m\u001b[1;33m\u001b[0m\u001b[1;33m\u001b[0m\u001b[0m\n\u001b[0;32m      3\u001b[0m         \u001b[0mprint\u001b[0m\u001b[1;33m(\u001b[0m\u001b[1;34mf\"epoch:{i+1}\"\u001b[0m\u001b[1;33m)\u001b[0m\u001b[1;33m\u001b[0m\u001b[1;33m\u001b[0m\u001b[0m\n\u001b[1;32m----> 4\u001b[1;33m         \u001b[0mtrain_single_epoch\u001b[0m\u001b[1;33m(\u001b[0m\u001b[0mmodel\u001b[0m\u001b[1;33m,\u001b[0m\u001b[0mdataloader\u001b[0m\u001b[1;33m,\u001b[0m\u001b[0mloss_fn\u001b[0m\u001b[1;33m,\u001b[0m\u001b[0moptimizer\u001b[0m\u001b[1;33m,\u001b[0m\u001b[0mdevice\u001b[0m\u001b[1;33m)\u001b[0m\u001b[1;33m\u001b[0m\u001b[1;33m\u001b[0m\u001b[0m\n\u001b[0m\u001b[0;32m      5\u001b[0m         \u001b[0mprint\u001b[0m\u001b[1;33m(\u001b[0m\u001b[1;34m'-------------------------------------------'\u001b[0m\u001b[1;33m)\u001b[0m\u001b[1;33m\u001b[0m\u001b[1;33m\u001b[0m\u001b[0m\n\u001b[0;32m      6\u001b[0m     \u001b[0mprint\u001b[0m\u001b[1;33m(\u001b[0m\u001b[1;34m'Finished Training'\u001b[0m\u001b[1;33m)\u001b[0m\u001b[1;33m\u001b[0m\u001b[1;33m\u001b[0m\u001b[0m\n",
      "\u001b[1;32m<ipython-input-60-60c7fae9922a>\u001b[0m in \u001b[0;36mtrain_single_epoch\u001b[1;34m(model, dataloader, loss_fn, optimizer, device)\u001b[0m\n\u001b[0;32m      2\u001b[0m     \u001b[1;32mfor\u001b[0m \u001b[0mwaveform\u001b[0m\u001b[1;33m,\u001b[0m\u001b[0mlabel\u001b[0m \u001b[1;32min\u001b[0m \u001b[0mdataloader\u001b[0m\u001b[1;33m:\u001b[0m\u001b[1;33m\u001b[0m\u001b[1;33m\u001b[0m\u001b[0m\n\u001b[0;32m      3\u001b[0m         \u001b[0mwaveform\u001b[0m\u001b[1;33m=\u001b[0m\u001b[0mwaveform\u001b[0m\u001b[1;33m.\u001b[0m\u001b[0mto\u001b[0m\u001b[1;33m(\u001b[0m\u001b[0mdevice\u001b[0m\u001b[1;33m)\u001b[0m\u001b[1;33m\u001b[0m\u001b[1;33m\u001b[0m\u001b[0m\n\u001b[1;32m----> 4\u001b[1;33m         \u001b[0mlabel\u001b[0m\u001b[1;33m=\u001b[0m\u001b[0mpt\u001b[0m\u001b[1;33m.\u001b[0m\u001b[0mfrom_numpy\u001b[0m\u001b[1;33m(\u001b[0m\u001b[0mnumpy\u001b[0m\u001b[1;33m.\u001b[0m\u001b[0marray\u001b[0m\u001b[1;33m(\u001b[0m\u001b[0mlabel\u001b[0m\u001b[1;33m)\u001b[0m\u001b[1;33m)\u001b[0m\u001b[1;33m\u001b[0m\u001b[1;33m\u001b[0m\u001b[0m\n\u001b[0m\u001b[0;32m      5\u001b[0m         \u001b[0mlabel\u001b[0m\u001b[1;33m=\u001b[0m\u001b[0mlabel\u001b[0m\u001b[1;33m.\u001b[0m\u001b[0mto\u001b[0m\u001b[1;33m(\u001b[0m\u001b[0mdevice\u001b[0m\u001b[1;33m)\u001b[0m\u001b[1;33m\u001b[0m\u001b[1;33m\u001b[0m\u001b[0m\n\u001b[0;32m      6\u001b[0m         \u001b[1;31m# calculate loss and preds\u001b[0m\u001b[1;33m\u001b[0m\u001b[1;33m\u001b[0m\u001b[1;33m\u001b[0m\u001b[0m\n",
      "\u001b[1;31mTypeError\u001b[0m: can't convert np.ndarray of type numpy.str_. The only supported types are: float64, float32, float16, complex64, complex128, int64, int32, int16, int8, uint8, and bool."
     ]
    }
   ],
   "source": [
    "train(model,train_dataloader,loss_fn,optimizer,device,EPOCHS)"
   ]
  }
 ]
}