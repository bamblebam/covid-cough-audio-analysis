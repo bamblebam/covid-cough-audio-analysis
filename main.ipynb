{
 "metadata": {
  "language_info": {
   "codemirror_mode": {
    "name": "ipython",
    "version": 3
   },
   "file_extension": ".py",
   "mimetype": "text/x-python",
   "name": "python",
   "nbconvert_exporter": "python",
   "pygments_lexer": "ipython3",
   "version": "3.8.8"
  },
  "orig_nbformat": 4,
  "kernelspec": {
   "name": "python3",
   "display_name": "Python 3.8.8 64-bit ('tf': conda)"
  },
  "interpreter": {
   "hash": "8f7a9caefe3fbe01c4aa0205e6cc1c36763ed3d41b234746df90d0099aaa4109"
  }
 },
 "nbformat": 4,
 "nbformat_minor": 2,
 "cells": [
  {
   "cell_type": "code",
   "execution_count": 10,
   "metadata": {},
   "outputs": [],
   "source": [
    "import torch as pt\n",
    "import torchaudio as ta\n",
    "from torch.utils.data import Dataset,DataLoader\n",
    "\n",
    "import numpy as numpy\n",
    "\n",
    "import os\n",
    "import tqdm as tqdm\n",
    "import json"
   ]
  },
  {
   "cell_type": "code",
   "execution_count": 8,
   "metadata": {},
   "outputs": [
    {
     "output_type": "stream",
     "name": "stdout",
     "text": [
      "25985\n"
     ]
    }
   ],
   "source": [
    "path='data\\public_dataset'\n",
    "name_set=set()\n",
    "for file in os.listdir(path):\n",
    "    if file.endswith('webm'):\n",
    "        name_set.add(file)\n",
    "print(len(name_set))"
   ]
  },
  {
   "cell_type": "code",
   "execution_count": 17,
   "metadata": {},
   "outputs": [],
   "source": [
    "t=os.path.join(path,list(name_set)[1])"
   ]
  },
  {
   "cell_type": "code",
   "execution_count": 18,
   "metadata": {},
   "outputs": [
    {
     "output_type": "error",
     "ename": "RuntimeError",
     "evalue": "No audio I/O backend is available.",
     "traceback": [
      "\u001b[1;31m---------------------------------------------------------------------------\u001b[0m",
      "\u001b[1;31mRuntimeError\u001b[0m                              Traceback (most recent call last)",
      "\u001b[1;32m<ipython-input-18-dfeb57faf737>\u001b[0m in \u001b[0;36m<module>\u001b[1;34m\u001b[0m\n\u001b[1;32m----> 1\u001b[1;33m \u001b[0msignal\u001b[0m\u001b[1;33m,\u001b[0m\u001b[0msr\u001b[0m\u001b[1;33m=\u001b[0m\u001b[0mta\u001b[0m\u001b[1;33m.\u001b[0m\u001b[0mload\u001b[0m\u001b[1;33m(\u001b[0m\u001b[0mt\u001b[0m\u001b[1;33m)\u001b[0m\u001b[1;33m\u001b[0m\u001b[1;33m\u001b[0m\u001b[0m\n\u001b[0m",
      "\u001b[1;32mF:\\anacondapython\\envs\\tf\\lib\\site-packages\\torchaudio\\backend\\no_backend.py\u001b[0m in \u001b[0;36mload\u001b[1;34m(filepath, out, normalization, channels_first, num_frames, offset, signalinfo, encodinginfo, filetype)\u001b[0m\n\u001b[0;32m     18\u001b[0m          \u001b[0mencodinginfo\u001b[0m\u001b[1;33m:\u001b[0m \u001b[0mOptional\u001b[0m\u001b[1;33m[\u001b[0m\u001b[0mEncodingInfo\u001b[0m\u001b[1;33m]\u001b[0m \u001b[1;33m=\u001b[0m \u001b[1;32mNone\u001b[0m\u001b[1;33m,\u001b[0m\u001b[1;33m\u001b[0m\u001b[1;33m\u001b[0m\u001b[0m\n\u001b[0;32m     19\u001b[0m          filetype: Optional[str] = None) -> Tuple[Tensor, int]:\n\u001b[1;32m---> 20\u001b[1;33m     \u001b[1;32mraise\u001b[0m \u001b[0mRuntimeError\u001b[0m\u001b[1;33m(\u001b[0m\u001b[1;34m'No audio I/O backend is available.'\u001b[0m\u001b[1;33m)\u001b[0m\u001b[1;33m\u001b[0m\u001b[1;33m\u001b[0m\u001b[0m\n\u001b[0m\u001b[0;32m     21\u001b[0m \u001b[1;33m\u001b[0m\u001b[0m\n\u001b[0;32m     22\u001b[0m \u001b[1;33m\u001b[0m\u001b[0m\n",
      "\u001b[1;31mRuntimeError\u001b[0m: No audio I/O backend is available."
     ]
    }
   ],
   "source": [
    "signal,sr=ta.load(t)"
   ]
  },
  {
   "cell_type": "code",
   "execution_count": 13,
   "metadata": {},
   "outputs": [
    {
     "output_type": "stream",
     "name": "stdout",
     "text": [
      "{'datetime': '2020-04-11T13:35:31.037321+00:00', 'cough_detected': '0.9902', 'latitude': '37.4', 'longitude': '-6.1'}\n"
     ]
    }
   ],
   "source": [
    "t=t.replace('webm','json')\n",
    "with open(t,'r') as f:\n",
    "    content=json.loads(f.read())\n",
    "print(content)"
   ]
  },
  {
   "cell_type": "code",
   "execution_count": 16,
   "metadata": {},
   "outputs": [
    {
     "output_type": "stream",
     "name": "stdout",
     "text": [
      "0.9902\n"
     ]
    }
   ],
   "source": [
    "print(content['cough_detected'])"
   ]
  },
  {
   "cell_type": "code",
   "execution_count": null,
   "metadata": {},
   "outputs": [],
   "source": [
    "class CoughVidDataset(Dataset):\n",
    "\n",
    "    def __init__(self,path):\n",
    "        name_set=set()\n",
    "        for file in os.listdir(path):\n",
    "            if file.endswith('webm'):\n",
    "                name_set.add(file)\n",
    "        name_set=list(name_set)\n",
    "        self.datalist=name_set\n",
    "        self.path=path\n",
    "        \n",
    "    def __len__(self):\n",
    "        return len(self.datalist)\n",
    "\n",
    "    def __getitem__(self,idx):\n",
    "        audio_path=os.path.join(self.path,self.datalist[idx])\n"
   ]
  }
 ]
}