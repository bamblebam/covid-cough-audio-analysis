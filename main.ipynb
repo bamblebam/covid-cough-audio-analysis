{
 "metadata": {
  "language_info": {
   "codemirror_mode": {
    "name": "ipython",
    "version": 3
   },
   "file_extension": ".py",
   "mimetype": "text/x-python",
   "name": "python",
   "nbconvert_exporter": "python",
   "pygments_lexer": "ipython3",
   "version": "3.8.8"
  },
  "orig_nbformat": 4,
  "kernelspec": {
   "name": "python3",
   "display_name": "Python 3.8.8 64-bit ('tf': conda)"
  },
  "interpreter": {
   "hash": "8f7a9caefe3fbe01c4aa0205e6cc1c36763ed3d41b234746df90d0099aaa4109"
  }
 },
 "nbformat": 4,
 "nbformat_minor": 2,
 "cells": [
  {
   "cell_type": "code",
   "execution_count": 34,
   "metadata": {},
   "outputs": [],
   "source": [
    "import torch as pt\n",
    "from torch import nn\n",
    "import torchaudio as ta\n",
    "from torchsummary import summary\n",
    "from torch.utils.data import Dataset,DataLoader\n",
    "\n",
    "import numpy as numpy\n",
    "\n",
    "import os\n",
    "import subprocess\n",
    "import tqdm as tqdm\n",
    "import json"
   ]
  },
  {
   "cell_type": "code",
   "execution_count": 30,
   "metadata": {},
   "outputs": [],
   "source": [
    "if pt.cuda.is_available():\n",
    "    device='cuda'\n",
    "else:\n",
    "    device='cpu'"
   ]
  },
  {
   "cell_type": "code",
   "execution_count": 31,
   "metadata": {},
   "outputs": [
    {
     "output_type": "stream",
     "name": "stdout",
     "text": [
      "cuda\n"
     ]
    }
   ],
   "source": [
    "print(device)"
   ]
  },
  {
   "cell_type": "code",
   "execution_count": 21,
   "metadata": {
    "tags": []
   },
   "outputs": [],
   "source": [
    "path='data\\public_dataset'\n",
    "for file in os.listdir(path):\n",
    "    if file.endswith('webm'):\n",
    "        name,ext=os.path.splitext(file)\n",
    "        new_name=name+'.wav'\n",
    "        os.rename(os.path.join(path,file),os.path.join(path,new_name))"
   ]
  },
  {
   "cell_type": "code",
   "execution_count": 13,
   "metadata": {},
   "outputs": [],
   "source": [
    "def convert_webm_to_wav(file):\n",
    "    command = ['ffmpeg', '-i', file, file[:-5] + '.wav']\n",
    "    subprocess.run(command)"
   ]
  },
  {
   "cell_type": "code",
   "execution_count": 19,
   "metadata": {
    "tags": []
   },
   "outputs": [],
   "source": [
    "path='data\\public_dataset'\n",
    "for file in os.listdir(path):\n",
    "    if file.endswith('webm'):\n",
    "        subprocess.run(['ffmpeg','-i',os.path.join(path,file),'test_df/'+file[:-5]+'.wav'])"
   ]
  },
  {
   "cell_type": "code",
   "execution_count": 2,
   "metadata": {},
   "outputs": [
    {
     "output_type": "stream",
     "name": "stdout",
     "text": [
      "25984\n"
     ]
    }
   ],
   "source": [
    "path='test_df'\n",
    "name_set=set()\n",
    "for file in os.listdir(path):\n",
    "    if file.endswith('wav'):\n",
    "        name_set.add(file)\n",
    "print(len(name_set))"
   ]
  },
  {
   "cell_type": "code",
   "execution_count": 24,
   "metadata": {},
   "outputs": [
    {
     "output_type": "stream",
     "name": "stdout",
     "text": [
      "2d71f678-6687-4a2f-bfed-e40fd23b9752\n{'datetime': '2020-04-14T18:46:15.579555+00:00', 'cough_detected': '0.8779', 'latitude': '37.8', 'longitude': '29.1', 'age': '8', 'gender': 'male', 'respiratory_condition': 'False', 'fever_muscle_pain': 'False', 'status': 'healthy'}\n"
     ]
    }
   ],
   "source": [
    "t=os.path.join(path,list(name_set)[0])\n",
    "label_path='data\\public_dataset'\n",
    "fname=t[8:-4]\n",
    "l=os.path.join(label_path,fname+'.json')\n",
    "print(fname)\n",
    "with open(l,'r') as f:\n",
    "    content=json.loads(f.read())\n",
    "print(content)"
   ]
  },
  {
   "cell_type": "code",
   "execution_count": 27,
   "metadata": {},
   "outputs": [
    {
     "output_type": "stream",
     "name": "stdout",
     "text": [
      "2d71f678-6687-4a2f-bfed-e40fd23b9752.wav\n"
     ]
    }
   ],
   "source": [
    "print(list(name_set)[0])"
   ]
  },
  {
   "cell_type": "code",
   "execution_count": 6,
   "metadata": {},
   "outputs": [],
   "source": [
    "signal,sr=ta.load(t)"
   ]
  },
  {
   "cell_type": "code",
   "execution_count": 16,
   "metadata": {},
   "outputs": [
    {
     "output_type": "stream",
     "name": "stdout",
     "text": [
      "0.9902\n"
     ]
    }
   ],
   "source": [
    "print(content['cough_detected'])"
   ]
  },
  {
   "cell_type": "code",
   "execution_count": 66,
   "metadata": {},
   "outputs": [],
   "source": [
    "class CoughVidDataset(Dataset):\n",
    "\n",
    "    def __init__(self,audio_path,label_path,transformation,target_sample_rate,num_samples,device):\n",
    "        name_set=set()\n",
    "        for file in os.listdir(audio_path):\n",
    "            if file.endswith('wav'):\n",
    "                name_set.add(file)\n",
    "        name_set=list(name_set)\n",
    "        self.datalist=name_set\n",
    "        self.audio_path=audio_path\n",
    "        self.label_path=label_path\n",
    "        self.device=device\n",
    "        self.transformation=transformation.to(device)\n",
    "        self.target_sample_rate=target_sample_rate\n",
    "        self.num_samples=num_samples\n",
    "        \n",
    "    def __len__(self):\n",
    "        return len(self.datalist)\n",
    "\n",
    "    def __getitem__(self,idx):\n",
    "        audio_file_path=os.path.join(self.audio_path,self.datalist[idx])\n",
    "        label_file_path=os.path.join(self.label_path,self.datalist[idx][:-4]+'.json')\n",
    "        with open(label_file_path,'r') as f:\n",
    "            content=json.loads(f.read())\n",
    "            f.close()\n",
    "        label=content['cough_detected']\n",
    "        waveform,sample_rate=ta.load(audio_file_path) #(num_channels,samples) -> (1,samples) makes the waveform mono\n",
    "        waveform=waveform.to(self.device)\n",
    "        waveform=self._resample(waveform,sample_rate)   \n",
    "        waveform=self._mix_down(waveform)\n",
    "        waveform=self._cut(waveform)\n",
    "        waveform=self._right_pad(waveform)\n",
    "        waveform=self.transformation(waveform)\n",
    "        return waveform,float(label)\n",
    "\n",
    "    def _resample(self,waveform,sample_rate):\n",
    "        # used to handle sample rate\n",
    "        resampler=ta.transforms.Resample(sample_rate,self.target_sample_rate)\n",
    "        return resampler(waveform)\n",
    "    \n",
    "    def _mix_down(self,waveform):\n",
    "        # used to handle channels\n",
    "        waveform=pt.mean(waveform,dim=0,keepdim=True)\n",
    "        return waveform\n",
    "    \n",
    "    def _cut(self,waveform):\n",
    "        # cuts the waveform if it has more than certain samples\n",
    "        if waveform.shape[1]>self.num_samples:\n",
    "            waveform=waveform[:,:self.num_samples]\n",
    "        return waveform\n",
    "    \n",
    "    def _right_pad(self,waveform):\n",
    "        # pads the waveform if it has less than certain samples\n",
    "        signal_length=waveform.shape[1]\n",
    "        if signal_length<self.num_samples:\n",
    "            num_padding=self.num_samples-signal_length\n",
    "            last_dim_padding=(0,num_padding) # first arg for left second for right padding. Make a list of tuples for multi dim\n",
    "            waveform=pt.nn.functional.pad(waveform,last_dim_padding)\n",
    "        return waveform\n",
    "\n"
   ]
  },
  {
   "cell_type": "code",
   "execution_count": 35,
   "metadata": {},
   "outputs": [],
   "source": [
    "class CNNNetwork(nn.Module):\n",
    "\n",
    "    def __init__(self):\n",
    "        super().__init__()\n",
    "        self.conv1=nn.Sequential(\n",
    "            nn.Conv2d(in_channels=1,out_channels=16,kernel_size=3,stride=1,padding=2),\n",
    "            nn.ReLU(),\n",
    "            nn.MaxPool2d(kernel_size=2)\n",
    "        )\n",
    "        self.conv2=nn.Sequential(\n",
    "            nn.Conv2d(in_channels=16,out_channels=32,kernel_size=3,stride=1,padding=2),\n",
    "            nn.ReLU(),\n",
    "            nn.MaxPool2d(kernel_size=2)\n",
    "        )\n",
    "        self.conv3=nn.Sequential(\n",
    "            nn.Conv2d(in_channels=32,out_channels=64,kernel_size=3,stride=1,padding=2),\n",
    "            nn.ReLU(),\n",
    "            nn.MaxPool2d(kernel_size=2)\n",
    "        )\n",
    "        self.conv4=nn.Sequential(\n",
    "            nn.Conv2d(in_channels=64,out_channels=128,kernel_size=3,stride=1,padding=2),\n",
    "            nn.ReLU(),\n",
    "            nn.MaxPool2d(kernel_size=2)\n",
    "        )\n",
    "        self.flatten=nn.Flatten()\n",
    "        self.linear1=nn.Linear(in_features=128*5*4,out_features=128)\n",
    "        self.linear2=nn.Linear(in_features=128,out_features=1)\n",
    "        self.output=nn.Sigmoid()\n",
    "    \n",
    "    def forward(self,input_data):\n",
    "        x=self.conv1(input_data)\n",
    "        x=self.conv2(x)\n",
    "        x=self.conv3(x)\n",
    "        x=self.conv4(x)\n",
    "        x=self.flatten(x)\n",
    "        x=self.linear1(x)\n",
    "        logits=self.linear2(x)\n",
    "        output=self.output(logits)\n",
    "        \n",
    "        return output\n"
   ]
  },
  {
   "cell_type": "code",
   "execution_count": 80,
   "metadata": {},
   "outputs": [],
   "source": [
    "def train_single_epoch(model,dataloader,loss_fn,optimizer,device):\n",
    "    for waveform,label in tqdm.tqdm(dataloader):\n",
    "        waveform=waveform.to(device)\n",
    "        # label=pt.from_numpy(numpy.array(label))\n",
    "        label=label.to(device)\n",
    "        # calculate loss and preds\n",
    "        logits=model(waveform)\n",
    "        loss=loss_fn(logits.float(),label.float().view(-1,1))\n",
    "        # backpropogate the loss and update the gradients\n",
    "        optimizer.zero_grad()\n",
    "        loss.backward()\n",
    "        optimizer.step()\n",
    "    print(f\"loss:{loss.item()}\")"
   ]
  },
  {
   "cell_type": "code",
   "execution_count": 48,
   "metadata": {},
   "outputs": [],
   "source": [
    "def train(model,dataloader,loss_fn,optimizer,device,epochs):\n",
    "    for i in tqdm.tqdm(range(epochs)):\n",
    "        print(f\"epoch:{i+1}\")\n",
    "        train_single_epoch(model,dataloader,loss_fn,optimizer,device)\n",
    "        print('-------------------------------------------')\n",
    "    print('Finished Training')"
   ]
  },
  {
   "cell_type": "code",
   "execution_count": 82,
   "metadata": {},
   "outputs": [],
   "source": [
    "audio_path='test_df'\n",
    "label_path='data\\public_dataset'\n",
    "SAMPLE_RATE=22050\n",
    "NUM_SAMPLES=22050\n",
    "BATCH_SIZE=128\n",
    "EPOCHS=1"
   ]
  },
  {
   "cell_type": "code",
   "execution_count": 67,
   "metadata": {},
   "outputs": [],
   "source": [
    "melspectogram=ta.transforms.MelSpectrogram(sample_rate=SAMPLE_RATE,n_fft=1024,hop_length=512,n_mels=64)\n",
    "coughvid_dataset=CoughVidDataset(audio_path,label_path,melspectogram,SAMPLE_RATE,NUM_SAMPLES,device)"
   ]
  },
  {
   "cell_type": "code",
   "execution_count": 68,
   "metadata": {},
   "outputs": [],
   "source": [
    "train_dataloader=DataLoader(coughvid_dataset,batch_size=BATCH_SIZE,shuffle=True)"
   ]
  },
  {
   "cell_type": "code",
   "execution_count": 72,
   "metadata": {},
   "outputs": [
    {
     "output_type": "stream",
     "name": "stdout",
     "text": [
      "torch.Size([128]) torch.Size([128, 1, 64, 44])\n"
     ]
    }
   ],
   "source": [
    "for waveform,label in train_dataloader:\n",
    "    print(label.shape,waveform.shape)\n",
    "    break"
   ]
  },
  {
   "cell_type": "code",
   "execution_count": 29,
   "metadata": {},
   "outputs": [
    {
     "output_type": "stream",
     "name": "stdout",
     "text": [
      "torch.Size([1, 64, 44])\n"
     ]
    }
   ],
   "source": [
    "signal,label=coughvid_dataset[0]\n",
    "print(signal.shape)"
   ]
  },
  {
   "cell_type": "code",
   "execution_count": 86,
   "metadata": {},
   "outputs": [
    {
     "output_type": "stream",
     "name": "stdout",
     "text": [
      "==========================================================================================\nLayer (type:depth-idx)                   Output Shape              Param #\n==========================================================================================\n├─Sequential: 1-1                        [-1, 16, 33, 23]          --\n|    └─Conv2d: 2-1                       [-1, 16, 66, 46]          160\n|    └─ReLU: 2-2                         [-1, 16, 66, 46]          --\n|    └─MaxPool2d: 2-3                    [-1, 16, 33, 23]          --\n├─Sequential: 1-2                        [-1, 32, 17, 12]          --\n|    └─Conv2d: 2-4                       [-1, 32, 35, 25]          4,640\n|    └─ReLU: 2-5                         [-1, 32, 35, 25]          --\n|    └─MaxPool2d: 2-6                    [-1, 32, 17, 12]          --\n├─Sequential: 1-3                        [-1, 64, 9, 7]            --\n|    └─Conv2d: 2-7                       [-1, 64, 19, 14]          18,496\n|    └─ReLU: 2-8                         [-1, 64, 19, 14]          --\n|    └─MaxPool2d: 2-9                    [-1, 64, 9, 7]            --\n├─Sequential: 1-4                        [-1, 128, 5, 4]           --\n|    └─Conv2d: 2-10                      [-1, 128, 11, 9]          73,856\n|    └─ReLU: 2-11                        [-1, 128, 11, 9]          --\n|    └─MaxPool2d: 2-12                   [-1, 128, 5, 4]           --\n├─Flatten: 1-5                           [-1, 2560]                --\n├─Linear: 1-6                            [-1, 128]                 327,808\n├─Linear: 1-7                            [-1, 1]                   129\n├─Sigmoid: 1-8                           [-1, 1]                   --\n==========================================================================================\nTotal params: 425,089\nTrainable params: 425,089\nNon-trainable params: 0\nTotal mult-adds (M): 17.10\n==========================================================================================\nInput size (MB): 0.01\nForward/backward pass size (MB): 0.81\nParams size (MB): 1.62\nEstimated Total Size (MB): 2.44\n==========================================================================================\n"
     ]
    },
    {
     "output_type": "execute_result",
     "data": {
      "text/plain": [
       "==========================================================================================\n",
       "Layer (type:depth-idx)                   Output Shape              Param #\n",
       "==========================================================================================\n",
       "├─Sequential: 1-1                        [-1, 16, 33, 23]          --\n",
       "|    └─Conv2d: 2-1                       [-1, 16, 66, 46]          160\n",
       "|    └─ReLU: 2-2                         [-1, 16, 66, 46]          --\n",
       "|    └─MaxPool2d: 2-3                    [-1, 16, 33, 23]          --\n",
       "├─Sequential: 1-2                        [-1, 32, 17, 12]          --\n",
       "|    └─Conv2d: 2-4                       [-1, 32, 35, 25]          4,640\n",
       "|    └─ReLU: 2-5                         [-1, 32, 35, 25]          --\n",
       "|    └─MaxPool2d: 2-6                    [-1, 32, 17, 12]          --\n",
       "├─Sequential: 1-3                        [-1, 64, 9, 7]            --\n",
       "|    └─Conv2d: 2-7                       [-1, 64, 19, 14]          18,496\n",
       "|    └─ReLU: 2-8                         [-1, 64, 19, 14]          --\n",
       "|    └─MaxPool2d: 2-9                    [-1, 64, 9, 7]            --\n",
       "├─Sequential: 1-4                        [-1, 128, 5, 4]           --\n",
       "|    └─Conv2d: 2-10                      [-1, 128, 11, 9]          73,856\n",
       "|    └─ReLU: 2-11                        [-1, 128, 11, 9]          --\n",
       "|    └─MaxPool2d: 2-12                   [-1, 128, 5, 4]           --\n",
       "├─Flatten: 1-5                           [-1, 2560]                --\n",
       "├─Linear: 1-6                            [-1, 128]                 327,808\n",
       "├─Linear: 1-7                            [-1, 1]                   129\n",
       "├─Sigmoid: 1-8                           [-1, 1]                   --\n",
       "==========================================================================================\n",
       "Total params: 425,089\n",
       "Trainable params: 425,089\n",
       "Non-trainable params: 0\n",
       "Total mult-adds (M): 17.10\n",
       "==========================================================================================\n",
       "Input size (MB): 0.01\n",
       "Forward/backward pass size (MB): 0.81\n",
       "Params size (MB): 1.62\n",
       "Estimated Total Size (MB): 2.44\n",
       "=========================================================================================="
      ]
     },
     "metadata": {},
     "execution_count": 86
    }
   ],
   "source": [
    "model=CNNNetwork().cuda()\n",
    "summary(model,(1,64,44))"
   ]
  },
  {
   "cell_type": "code",
   "execution_count": 87,
   "metadata": {},
   "outputs": [],
   "source": [
    "loss_fn=pt.nn.MSELoss()\n",
    "optimizer=pt.optim.SGD(model.parameters(),lr=0.1,momentum=0.9)"
   ]
  },
  {
   "cell_type": "code",
   "execution_count": 88,
   "metadata": {},
   "outputs": [
    {
     "output_type": "stream",
     "name": "stderr",
     "text": [
      "  0%|          | 0/1 [00:00<?, ?it/s]\n",
      "  0%|          | 0/203 [00:00<?, ?it/s]\u001b[Aepoch:1\n",
      "\n",
      "  0%|          | 1/203 [00:11<38:19, 11.39s/it]\u001b[A\n",
      "  1%|          | 2/203 [00:21<37:12, 11.11s/it]\u001b[A\n",
      "  1%|▏         | 3/203 [00:32<36:23, 10.92s/it]\u001b[A\n",
      "  2%|▏         | 4/203 [00:41<34:55, 10.53s/it]\u001b[A\n",
      "  2%|▏         | 5/203 [00:52<34:37, 10.49s/it]\u001b[A\n",
      "  3%|▎         | 6/203 [01:01<33:29, 10.20s/it]\u001b[A\n",
      "  3%|▎         | 7/203 [01:12<33:45, 10.33s/it]\u001b[A\n",
      "  4%|▍         | 8/203 [01:22<33:05, 10.18s/it]\u001b[A\n",
      "  4%|▍         | 9/203 [01:32<32:33, 10.07s/it]\u001b[A\n",
      "  5%|▍         | 10/203 [01:42<32:31, 10.11s/it]\u001b[A\n",
      "  5%|▌         | 11/203 [01:52<32:25, 10.13s/it]\u001b[A\n",
      "  6%|▌         | 12/203 [02:03<32:37, 10.25s/it]\u001b[A\n",
      "  6%|▋         | 13/203 [02:13<32:22, 10.23s/it]\u001b[A\n",
      "  7%|▋         | 14/203 [02:23<32:09, 10.21s/it]\u001b[A\n",
      "  7%|▋         | 15/203 [02:33<31:34, 10.08s/it]\u001b[A\n",
      "  8%|▊         | 16/203 [02:42<31:01,  9.96s/it]\u001b[A\n",
      "  8%|▊         | 17/203 [02:52<30:42,  9.91s/it]\u001b[A\n",
      "  9%|▉         | 18/203 [03:03<31:04, 10.08s/it]\u001b[A\n",
      "  9%|▉         | 19/203 [03:13<31:03, 10.13s/it]\u001b[A\n",
      " 10%|▉         | 20/203 [03:23<31:01, 10.17s/it]\u001b[A\n",
      " 10%|█         | 21/203 [03:33<30:56, 10.20s/it]\u001b[A\n",
      " 11%|█         | 22/203 [03:43<30:28, 10.10s/it]\u001b[A\n",
      " 11%|█▏        | 23/203 [03:53<29:36,  9.87s/it]\u001b[A\n",
      " 12%|█▏        | 24/203 [04:03<30:05, 10.09s/it]\u001b[A\n",
      " 12%|█▏        | 25/203 [04:13<30:00, 10.12s/it]\u001b[A\n",
      " 13%|█▎        | 26/203 [04:24<30:29, 10.34s/it]\u001b[A\n",
      " 13%|█▎        | 27/203 [04:34<30:12, 10.30s/it]\u001b[A\n",
      " 14%|█▍        | 28/203 [04:43<28:54,  9.91s/it]\u001b[A\n",
      " 14%|█▍        | 29/203 [04:53<28:26,  9.81s/it]\u001b[A\n",
      " 15%|█▍        | 30/203 [05:03<28:05,  9.74s/it]\u001b[A\n",
      " 15%|█▌        | 31/203 [05:13<28:17,  9.87s/it]\u001b[A\n",
      " 16%|█▌        | 32/203 [05:23<28:25,  9.97s/it]\u001b[A\n",
      " 16%|█▋        | 33/203 [05:33<28:33, 10.08s/it]\u001b[A\n",
      " 17%|█▋        | 34/203 [05:43<27:48,  9.87s/it]\u001b[A\n",
      " 17%|█▋        | 35/203 [05:52<26:44,  9.55s/it]\u001b[A\n",
      " 18%|█▊        | 36/203 [06:01<26:34,  9.55s/it]\u001b[A\n",
      " 18%|█▊        | 37/203 [06:11<27:04,  9.79s/it]\u001b[A\n",
      " 19%|█▊        | 38/203 [06:20<26:11,  9.52s/it]\u001b[A\n",
      " 19%|█▉        | 39/203 [06:29<25:30,  9.33s/it]\u001b[A\n",
      " 20%|█▉        | 40/203 [06:39<25:41,  9.46s/it]\u001b[A\n",
      " 20%|██        | 41/203 [06:49<25:51,  9.58s/it]\u001b[A\n",
      " 21%|██        | 42/203 [07:00<26:47,  9.99s/it]\u001b[A\n",
      " 21%|██        | 43/203 [07:10<26:54, 10.09s/it]\u001b[A\n",
      " 22%|██▏       | 44/203 [07:19<25:56,  9.79s/it]\u001b[A\n",
      " 22%|██▏       | 45/203 [07:29<25:28,  9.67s/it]\u001b[A\n",
      " 23%|██▎       | 46/203 [07:39<25:33,  9.77s/it]\u001b[A\n",
      " 23%|██▎       | 47/203 [07:48<25:27,  9.79s/it]\u001b[A\n",
      " 24%|██▎       | 48/203 [07:58<25:13,  9.77s/it]\u001b[A\n",
      " 24%|██▍       | 49/203 [08:08<25:02,  9.76s/it]\u001b[A\n",
      " 25%|██▍       | 50/203 [08:17<24:34,  9.64s/it]\u001b[A\n",
      " 25%|██▌       | 51/203 [08:27<24:21,  9.62s/it]\u001b[A\n",
      " 26%|██▌       | 52/203 [08:36<23:55,  9.51s/it]\u001b[A\n",
      " 26%|██▌       | 53/203 [08:47<24:30,  9.81s/it]\u001b[A\n",
      " 27%|██▋       | 54/203 [08:55<23:43,  9.55s/it]\u001b[A\n",
      " 27%|██▋       | 55/203 [09:05<23:47,  9.65s/it]\u001b[A\n",
      " 28%|██▊       | 56/203 [09:15<23:48,  9.72s/it]\u001b[A\n",
      " 28%|██▊       | 57/203 [09:25<23:28,  9.65s/it]\u001b[A\n",
      " 29%|██▊       | 58/203 [09:34<23:00,  9.52s/it]\u001b[A\n",
      " 29%|██▉       | 59/203 [09:43<22:42,  9.46s/it]\u001b[A\n",
      " 30%|██▉       | 60/203 [09:53<22:25,  9.41s/it]\u001b[A\n",
      " 30%|███       | 61/203 [10:03<22:46,  9.62s/it]\u001b[A\n",
      " 31%|███       | 62/203 [10:12<22:26,  9.55s/it]\u001b[A\n",
      " 31%|███       | 63/203 [10:21<22:02,  9.45s/it]\u001b[A\n",
      " 32%|███▏      | 64/203 [10:31<21:55,  9.46s/it]\u001b[A\n",
      " 32%|███▏      | 65/203 [10:40<21:35,  9.38s/it]\u001b[A\n",
      " 33%|███▎      | 66/203 [10:50<21:35,  9.46s/it]\u001b[A\n",
      " 33%|███▎      | 67/203 [10:59<21:13,  9.37s/it]\u001b[A\n",
      " 33%|███▎      | 68/203 [11:08<21:02,  9.35s/it]\u001b[A\n",
      " 34%|███▍      | 69/203 [11:17<20:56,  9.38s/it]\u001b[A\n",
      " 34%|███▍      | 70/203 [11:27<20:42,  9.34s/it]\u001b[A\n",
      " 35%|███▍      | 71/203 [11:37<21:28,  9.76s/it]\u001b[A\n",
      " 35%|███▌      | 72/203 [11:46<20:48,  9.53s/it]\u001b[A\n",
      " 36%|███▌      | 73/203 [11:56<20:34,  9.50s/it]\u001b[A\n",
      " 36%|███▋      | 74/203 [12:06<20:31,  9.55s/it]\u001b[A\n",
      " 37%|███▋      | 75/203 [12:16<20:40,  9.69s/it]\u001b[A\n",
      " 37%|███▋      | 76/203 [12:25<20:15,  9.57s/it]\u001b[A\n",
      " 38%|███▊      | 77/203 [12:34<20:03,  9.55s/it]\u001b[A\n",
      " 38%|███▊      | 78/203 [12:44<20:03,  9.63s/it]\u001b[A\n",
      " 39%|███▉      | 79/203 [12:54<19:53,  9.62s/it]\u001b[A\n",
      " 39%|███▉      | 80/203 [13:04<19:48,  9.66s/it]\u001b[A\n",
      " 40%|███▉      | 81/203 [13:13<19:28,  9.58s/it]\u001b[A\n",
      " 40%|████      | 82/203 [13:23<19:42,  9.77s/it]\u001b[A\n",
      " 41%|████      | 83/203 [13:33<19:25,  9.72s/it]\u001b[A\n",
      " 41%|████▏     | 84/203 [13:43<19:25,  9.79s/it]\u001b[A\n",
      " 42%|████▏     | 85/203 [13:52<19:04,  9.70s/it]\u001b[A\n",
      " 42%|████▏     | 86/203 [14:02<18:42,  9.60s/it]\u001b[A\n",
      " 43%|████▎     | 87/203 [14:11<18:27,  9.55s/it]\u001b[A\n",
      " 43%|████▎     | 88/203 [14:20<18:03,  9.42s/it]\u001b[A\n",
      " 44%|████▍     | 89/203 [14:29<17:50,  9.39s/it]\u001b[A\n",
      " 44%|████▍     | 90/203 [14:39<17:34,  9.33s/it]\u001b[A\n",
      " 45%|████▍     | 91/203 [14:48<17:09,  9.19s/it]\u001b[A\n",
      " 45%|████▌     | 92/203 [14:57<16:56,  9.16s/it]\u001b[A\n",
      " 46%|████▌     | 93/203 [15:06<16:53,  9.22s/it]\u001b[A\n",
      " 46%|████▋     | 94/203 [15:15<16:31,  9.09s/it]\u001b[A\n",
      " 47%|████▋     | 95/203 [15:24<16:13,  9.01s/it]\u001b[A\n",
      " 47%|████▋     | 96/203 [15:33<16:07,  9.04s/it]\u001b[A\n",
      " 48%|████▊     | 97/203 [15:41<15:49,  8.96s/it]\u001b[A\n",
      " 48%|████▊     | 98/203 [15:50<15:35,  8.91s/it]\u001b[A\n",
      " 49%|████▉     | 99/203 [15:59<15:18,  8.83s/it]\u001b[A\n",
      " 49%|████▉     | 100/203 [16:08<15:31,  9.05s/it]\u001b[A\n",
      " 50%|████▉     | 101/203 [16:18<15:38,  9.20s/it]\u001b[A\n",
      " 50%|█████     | 102/203 [16:26<15:01,  8.93s/it]\u001b[A\n",
      " 51%|█████     | 103/203 [16:35<14:44,  8.84s/it]\u001b[A\n",
      " 51%|█████     | 104/203 [16:44<14:36,  8.86s/it]\u001b[A\n",
      " 52%|█████▏    | 105/203 [16:53<14:42,  9.00s/it]\u001b[A\n",
      " 52%|█████▏    | 106/203 [17:03<14:48,  9.16s/it]\u001b[A\n",
      " 53%|█████▎    | 107/203 [17:12<14:48,  9.25s/it]\u001b[A\n",
      " 53%|█████▎    | 108/203 [17:21<14:32,  9.18s/it]\u001b[A\n",
      " 54%|█████▎    | 109/203 [17:30<14:25,  9.21s/it]\u001b[A\n",
      " 54%|█████▍    | 110/203 [17:40<14:22,  9.28s/it]\u001b[A\n",
      " 55%|█████▍    | 111/203 [17:49<14:04,  9.18s/it]\u001b[A\n",
      " 55%|█████▌    | 112/203 [17:58<13:57,  9.20s/it]\u001b[A\n",
      " 56%|█████▌    | 113/203 [18:07<13:39,  9.11s/it]\u001b[A\n",
      " 56%|█████▌    | 114/203 [18:16<13:29,  9.10s/it]\u001b[A\n",
      " 57%|█████▋    | 115/203 [18:25<13:26,  9.17s/it]\u001b[A\n",
      " 57%|█████▋    | 116/203 [18:34<13:14,  9.13s/it]\u001b[A\n",
      " 58%|█████▊    | 117/203 [18:43<12:43,  8.87s/it]\u001b[A\n",
      " 58%|█████▊    | 118/203 [18:52<12:39,  8.94s/it]\u001b[A\n",
      " 59%|█████▊    | 119/203 [19:00<12:22,  8.84s/it]\u001b[A\n",
      " 59%|█████▉    | 120/203 [19:10<12:31,  9.05s/it]\u001b[A\n",
      " 60%|█████▉    | 121/203 [19:19<12:19,  9.02s/it]\u001b[A\n",
      " 60%|██████    | 122/203 [19:28<12:16,  9.10s/it]\u001b[A\n",
      " 61%|██████    | 123/203 [19:37<12:10,  9.13s/it]\u001b[A\n",
      " 61%|██████    | 124/203 [19:46<11:52,  9.02s/it]\u001b[A\n",
      " 62%|██████▏   | 125/203 [19:55<11:33,  8.89s/it]\u001b[A\n",
      " 62%|██████▏   | 126/203 [20:05<11:47,  9.19s/it]\u001b[A\n",
      " 63%|██████▎   | 127/203 [20:13<11:30,  9.08s/it]\u001b[A\n",
      " 63%|██████▎   | 128/203 [20:22<11:12,  8.96s/it]\u001b[A\n",
      " 64%|██████▎   | 129/203 [20:31<11:01,  8.94s/it]\u001b[A\n",
      " 64%|██████▍   | 130/203 [20:40<10:44,  8.84s/it]\u001b[A\n",
      " 65%|██████▍   | 131/203 [20:48<10:31,  8.77s/it]\u001b[A\n",
      " 65%|██████▌   | 132/203 [20:57<10:28,  8.85s/it]\u001b[A\n",
      " 66%|██████▌   | 133/203 [21:06<10:21,  8.88s/it]\u001b[A\n",
      " 66%|██████▌   | 134/203 [21:15<10:17,  8.95s/it]\u001b[A\n",
      " 67%|██████▋   | 135/203 [21:24<10:11,  8.99s/it]\u001b[A\n",
      " 67%|██████▋   | 136/203 [21:33<09:48,  8.78s/it]\u001b[A\n",
      " 67%|██████▋   | 137/203 [21:42<09:40,  8.79s/it]\u001b[A\n",
      " 68%|██████▊   | 138/203 [21:50<09:31,  8.79s/it]\u001b[A\n",
      " 68%|██████▊   | 139/203 [21:59<09:22,  8.78s/it]\u001b[A\n",
      " 69%|██████▉   | 140/203 [22:08<09:15,  8.81s/it]\u001b[A\n",
      " 69%|██████▉   | 141/203 [22:17<09:01,  8.74s/it]\u001b[A\n",
      " 70%|██████▉   | 142/203 [22:25<08:46,  8.63s/it]\u001b[A\n",
      " 70%|███████   | 143/203 [22:34<08:42,  8.71s/it]\u001b[A\n",
      " 71%|███████   | 144/203 [22:42<08:30,  8.65s/it]\u001b[A\n",
      " 71%|███████▏  | 145/203 [22:51<08:20,  8.64s/it]\u001b[A\n",
      " 72%|███████▏  | 146/203 [22:59<08:06,  8.54s/it]\u001b[A\n",
      " 72%|███████▏  | 147/203 [23:08<08:04,  8.65s/it]\u001b[A\n",
      " 73%|███████▎  | 148/203 [23:17<08:03,  8.79s/it]\u001b[A\n",
      " 73%|███████▎  | 149/203 [23:26<07:49,  8.70s/it]\u001b[A\n",
      " 74%|███████▍  | 150/203 [23:34<07:37,  8.62s/it]\u001b[A\n",
      " 74%|███████▍  | 151/203 [23:43<07:30,  8.66s/it]\u001b[A\n",
      " 75%|███████▍  | 152/203 [23:51<07:19,  8.61s/it]\u001b[A\n",
      " 75%|███████▌  | 153/203 [24:00<07:09,  8.58s/it]\u001b[A\n",
      " 76%|███████▌  | 154/203 [24:09<07:05,  8.69s/it]\u001b[A\n",
      " 76%|███████▋  | 155/203 [24:17<06:48,  8.52s/it]\u001b[A\n",
      " 77%|███████▋  | 156/203 [24:26<06:40,  8.53s/it]\u001b[A\n",
      " 77%|███████▋  | 157/203 [24:34<06:30,  8.48s/it]\u001b[A\n",
      " 78%|███████▊  | 158/203 [24:42<06:19,  8.43s/it]\u001b[A\n",
      " 78%|███████▊  | 159/203 [24:50<06:08,  8.38s/it]\u001b[A\n",
      " 79%|███████▉  | 160/203 [24:59<05:58,  8.33s/it]\u001b[A\n",
      " 79%|███████▉  | 161/203 [25:08<05:55,  8.47s/it]\u001b[A\n",
      " 80%|███████▉  | 162/203 [25:16<05:48,  8.49s/it]\u001b[A\n",
      " 80%|████████  | 163/203 [25:25<05:39,  8.50s/it]\u001b[A\n",
      " 81%|████████  | 164/203 [25:33<05:31,  8.51s/it]\u001b[A\n",
      " 81%|████████▏ | 165/203 [25:42<05:24,  8.53s/it]\u001b[A\n",
      " 82%|████████▏ | 166/203 [25:50<05:11,  8.41s/it]\u001b[A\n",
      " 82%|████████▏ | 167/203 [25:59<05:06,  8.53s/it]\u001b[A\n",
      " 83%|████████▎ | 168/203 [26:07<04:55,  8.46s/it]\u001b[A\n",
      " 83%|████████▎ | 169/203 [26:15<04:44,  8.36s/it]\u001b[A\n",
      " 84%|████████▎ | 170/203 [26:23<04:36,  8.36s/it]\u001b[A\n",
      " 84%|████████▍ | 171/203 [26:31<04:23,  8.23s/it]\u001b[A\n",
      " 85%|████████▍ | 172/203 [26:39<04:13,  8.16s/it]\u001b[A\n",
      " 85%|████████▌ | 173/203 [26:48<04:06,  8.20s/it]\u001b[A\n",
      " 86%|████████▌ | 174/203 [26:56<03:58,  8.23s/it]\u001b[A\n",
      " 86%|████████▌ | 175/203 [27:04<03:52,  8.31s/it]\u001b[A\n",
      " 87%|████████▋ | 176/203 [27:12<03:42,  8.23s/it]\u001b[A\n",
      " 87%|████████▋ | 177/203 [27:20<03:31,  8.14s/it]\u001b[A\n",
      " 88%|████████▊ | 178/203 [27:29<03:24,  8.17s/it]\u001b[A\n",
      " 88%|████████▊ | 179/203 [27:37<03:14,  8.10s/it]\u001b[A\n",
      " 89%|████████▊ | 180/203 [27:45<03:07,  8.14s/it]\u001b[A\n",
      " 89%|████████▉ | 181/203 [27:53<02:58,  8.09s/it]\u001b[A\n",
      " 90%|████████▉ | 182/203 [28:01<02:49,  8.07s/it]\u001b[A\n",
      " 90%|█████████ | 183/203 [28:09<02:42,  8.10s/it]\u001b[A\n",
      " 91%|█████████ | 184/203 [28:17<02:34,  8.11s/it]\u001b[A\n",
      " 91%|█████████ | 185/203 [28:25<02:26,  8.13s/it]\u001b[A\n",
      " 92%|█████████▏| 186/203 [28:33<02:18,  8.14s/it]\u001b[A\n",
      " 92%|█████████▏| 187/203 [28:41<02:08,  8.01s/it]\u001b[A\n",
      " 93%|█████████▎| 188/203 [28:49<02:00,  8.05s/it]\u001b[A\n",
      " 93%|█████████▎| 189/203 [28:57<01:52,  8.07s/it]\u001b[A\n",
      " 94%|█████████▎| 190/203 [29:05<01:44,  8.05s/it]\u001b[A\n",
      " 94%|█████████▍| 191/203 [29:13<01:36,  8.04s/it]\u001b[A\n",
      " 95%|█████████▍| 192/203 [29:21<01:26,  7.90s/it]\u001b[A\n",
      " 95%|█████████▌| 193/203 [29:28<01:17,  7.76s/it]\u001b[A\n",
      " 96%|█████████▌| 194/203 [29:36<01:10,  7.79s/it]\u001b[A\n",
      " 96%|█████████▌| 195/203 [29:44<01:01,  7.73s/it]\u001b[A\n",
      " 97%|█████████▋| 196/203 [29:52<00:54,  7.76s/it]\u001b[A\n",
      " 97%|█████████▋| 197/203 [30:00<00:47,  7.95s/it]\u001b[A\n",
      " 98%|█████████▊| 198/203 [30:08<00:39,  7.98s/it]\u001b[A\n",
      " 98%|█████████▊| 199/203 [30:16<00:31,  7.88s/it]\u001b[A\n",
      " 99%|█████████▊| 200/203 [30:24<00:23,  7.83s/it]\u001b[A\n",
      " 99%|█████████▉| 201/203 [30:31<00:15,  7.79s/it]\u001b[A\n",
      "100%|█████████▉| 202/203 [30:39<00:07,  7.71s/it]\u001b[A\n",
      "100%|██████████| 203/203 [30:46<00:00,  9.10s/it]\n",
      "100%|██████████| 1/1 [30:46<00:00, 1846.81s/it]loss:0.17767520248889923\n",
      "-------------------------------------------\n",
      "Finished Training\n",
      "\n"
     ]
    }
   ],
   "source": [
    "train(model,train_dataloader,loss_fn,optimizer,device,EPOCHS)"
   ]
  }
 ]
}